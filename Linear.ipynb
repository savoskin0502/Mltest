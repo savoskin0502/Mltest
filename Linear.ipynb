{
 "cells": [
  {
   "cell_type": "code",
   "execution_count": 1,
   "metadata": {},
   "outputs": [],
   "source": [
    "import numpy as np\n",
    "import pandas as pd\n",
    "import random"
   ]
  },
  {
   "cell_type": "code",
   "execution_count": 2,
   "metadata": {},
   "outputs": [],
   "source": [
    "lr = 0.005 #parameter, which identify how fast our model will learn (lower better, but cpu unefficient)\n",
    "epoch = 300 #number of total iterations, identify will our model overfitted or underfitted"
   ]
  },
  {
   "cell_type": "code",
   "execution_count": 6,
   "metadata": {},
   "outputs": [],
   "source": [
    "class LinearRegression:\n",
    "    \"\"\"Linear Regression model\n",
    "    forwardproc: predict model on each iteration to evaluate our current weights on the backprop step\n",
    "    backprop: recalculate our weights, based on the output result with current weights (output from past step);\n",
    "    see on result, if output is less that target value, that go in +, else in - side\n",
    "    predict: use final weights and calculate the result\n",
    "    calculateerror: difference between predicted and target values\n",
    "    \"\"\"\n",
    "    def __init__(self, x, w, y):\n",
    "        self.inputs = x\n",
    "        self.weights = w\n",
    "        self.target = y\n",
    "        self.output = np.zeros(self.target.shape)\n",
    "\n",
    "    def forwardproc(self):\n",
    "        self.output = np.dot(self.weights, self.inputs.T)\n",
    "    \n",
    "    def backprop(self):\n",
    "        dw = lr*np.dot((self.output - self.target), self.inputs)\n",
    "        self.weights = self.weights - dw\n",
    "    \n",
    "    def predict(self, x):\n",
    "        return (np.dot(self.weights, x.T))\n",
    "    \n",
    "    def calculateError(self):\n",
    "        error = self.target - self.output\n",
    "        return abs(error)\n"
   ]
  },
  {
   "cell_type": "code",
   "execution_count": 10,
   "metadata": {},
   "outputs": [
    {
     "name": "stdout",
     "output_type": "stream",
     "text": [
      "Output: [[9.99744015]]\n",
      "Adjusted Weights 2: [[22.46852352 -2.47363043]]\n",
      "\n",
      "\n",
      "Output for the input data [3, 7]: [[50.09015759]]\n",
      "Output for the input data [5, 5]: [[99.97446549]]\n",
      "Predicted data based on trained weights: \n",
      "Input (scaled):  [[4 5]]\n",
      "Output:  [[77.50594197]]\n"
     ]
    }
   ],
   "source": [
    "if __name__ == \"__main__\":\n",
    "    inputdata = [[.3, .7], [.5, .5]] # all values are /10 => normalize function => get better results\n",
    "    weights = np.random.rand(1, 2) # generate initial weights in range(0, 1)\n",
    "    targetvalue = [[5], [10]] # observerd\n",
    "    ######\n",
    "    # what that function do: choose random inputdata object from list of inputdata =>\n",
    "    # => that gives us ~normal distribution if number of epoch will be enough for sample size =>\n",
    "    # => in case if our model don't have weights yet, assign random weights in range(0, 1), else assign\n",
    "    # recalculated weights for our model => as learning rate is small, for each randomly chosen \n",
    "    # object from inputdata recalculate weights several times regarding current observation\n",
    "    ######\n",
    "    for i in range(epoch):\n",
    "        j = random.randint(0, len(inputdata)-1) \n",
    "        x = np.array([inputdata[j]])\n",
    "        t = np.array([targetvalue[j]]) \n",
    "        if i == 0:\n",
    "            w = weights\n",
    "        else:\n",
    "            w = model.weights\n",
    "        model = LinearRegression(x, w, t)\n",
    "        for k in range(300):\n",
    "            model.forwardproc()\n",
    "            model.backprop()\n",
    "    print(\"Output:\", model.output)\n",
    "    print(\"Adjusted Weights 2:\", model.weights)\n",
    "    print(\"\\n\")\n",
    "    x1 = np.array([[3, 7]])\n",
    "    print (\"Output for the input data [3, 7]:\", model.predict(x1))\n",
    "    x2 = np.array([[5, 5]])\n",
    "    print (\"Output for the input data [5, 5]:\", model.predict(x2))\n",
    "    x_prediction = np.array([[4, 5]])\n",
    "    predicted_output = model.predict(x_prediction)\n",
    "    print(\"Predicted data based on trained weights: \")\n",
    "    print(\"Input (scaled): \", x_prediction)\n",
    "    print(\"Output: \", predicted_output)"
   ]
  },
  {
   "cell_type": "code",
   "execution_count": null,
   "metadata": {},
   "outputs": [],
   "source": []
  }
 ],
 "metadata": {
  "kernelspec": {
   "display_name": "Python 3",
   "language": "python",
   "name": "python3"
  },
  "language_info": {
   "codemirror_mode": {
    "name": "ipython",
    "version": 3
   },
   "file_extension": ".py",
   "mimetype": "text/x-python",
   "name": "python",
   "nbconvert_exporter": "python",
   "pygments_lexer": "ipython3",
   "version": "3.7.3"
  }
 },
 "nbformat": 4,
 "nbformat_minor": 2
}
