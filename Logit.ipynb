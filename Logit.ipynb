{
 "cells": [
  {
   "cell_type": "code",
   "execution_count": 175,
   "metadata": {},
   "outputs": [],
   "source": [
    "import numpy as np\n",
    "import pandas as pd\n",
    "import random\n",
    "import math"
   ]
  },
  {
   "cell_type": "code",
   "execution_count": 176,
   "metadata": {},
   "outputs": [],
   "source": [
    "lr = 0.001 # learning rate\n",
    "epoch = 3000 # number of epoch"
   ]
  },
  {
   "cell_type": "code",
   "execution_count": 177,
   "metadata": {},
   "outputs": [],
   "source": [
    "class LogisticRegression:\n",
    "    \"\"\"Logit using SGD\n",
    "    implement q = q - (h(x) - y)*x for observed object from inputdata where h(x) is probability,\n",
    "    taken from sigmoid function, and y is our target value\n",
    "    Logistic: make our linear function more linear => \n",
    "    => if p1 = (1/ 1 + e^-z) for case 1, then 1 - p1 = (1/1+e^z) => p1/1-p1 give us a probability\n",
    "    that is 1 against is 0, if we recalculate then have the next => (1/ 1 + e^-z)/(1-1/1+e^z) = e^z\n",
    "    step1: (1 + e^z)/(1+e^-z)\n",
    "    step2: (1 + e^z)/(e^z + 1)/ e^z => e^z\n",
    "    all of that means that we can optimize using the same formula, except that sigmoid is probabilistic func =>\n",
    "    for that reason for all weights.inputs matrix we recalculate reg to %'s\n",
    "    \"\"\"\n",
    "    def __init__(self, x, w, y):\n",
    "        self.inputs = x\n",
    "        self.weights = w\n",
    "        self.target = y\n",
    "        self.output = np.zeros(self.target.shape)\n",
    "    \n",
    "    def sigmoid(self, x):\n",
    "        return 1.0/(1+np.exp(-x))\n",
    "    \n",
    "    def forwardproc(self):\n",
    "        self.output = self.sigmoid(np.dot(self.weights, self.inputs.T))\n",
    "    \n",
    "    def backprop(self):\n",
    "        dw = lr*np.dot((self.output - self.target), self.inputs)\n",
    "        self.weights = self.weights - dw\n",
    "        \n",
    "    def calculateerror(self):\n",
    "        error = -self.target * math.log(self.output) - (1-self.target)*math.log(1-self.output)\n",
    "        return abs(error)\n",
    "\n",
    "    def predict(self, x):\n",
    "        return self.sigmoid((np.dot(self.weights, x.T)))\n"
   ]
  },
  {
   "cell_type": "code",
   "execution_count": 178,
   "metadata": {
    "scrolled": true
   },
   "outputs": [
    {
     "name": "stdout",
     "output_type": "stream",
     "text": [
      "Output for the input data [4, 10]: [[1.]]\n",
      "Output for the input data [10, 3]: [[3.29636268e-23]]\n",
      "Predicted data based on trained weights: \n",
      "Input (scaled):  [[6 4]]\n",
      "Output:  [[3.10228482e-06]]\n"
     ]
    }
   ],
   "source": [
    "if __name__ == \"__main__\":\n",
    "    inputdata = [[.4, 1], [1, .3]] # normalize\n",
    "    weights = [0.0 for i in range(len(inputdata))] # beginning is 0\n",
    "    # description is the same as in lin reg\n",
    "    targetvalue = [[1], [0]]\n",
    "    for i in range(epoch):\n",
    "        j = random.randint(0, len(inputdata)-1)\n",
    "        x = np.array([inputdata[j]]) \n",
    "        t = np.array([targetvalue[j]])\n",
    "        if i == 0:\n",
    "            w = weights\n",
    "        else:\n",
    "            w = model.weights\n",
    "        model = LogisticRegression(x, w, t)\n",
    "        for k in range(300):\n",
    "            model.forwardproc()\n",
    "            model.backprop()\n",
    "    \n",
    "    x1 = np.array([[4, 10]])\n",
    "    print (\"Output for the input data [4, 10]:\", model.predict(x1))\n",
    "    x2 = np.array([[10, 3]])\n",
    "    print (\"Output for the input data [10, 3]:\", model.predict(x2))\n",
    "    x_prediction = np.array([[6, 4]])\n",
    "    predicted_output = model.predict(x_prediction)\n",
    "    print(\"Predicted data based on trained weights: \")\n",
    "    print(\"Input (scaled): \", x_prediction)\n",
    "    print(\"Output: \", predicted_output)"
   ]
  },
  {
   "cell_type": "code",
   "execution_count": null,
   "metadata": {},
   "outputs": [],
   "source": []
  },
  {
   "cell_type": "markdown",
   "metadata": {},
   "source": [
    "\n",
    "\n"
   ]
  }
 ],
 "metadata": {
  "celltoolbar": "Edit Metadata",
  "kernelspec": {
   "display_name": "Python 3",
   "language": "python",
   "name": "python3"
  },
  "language_info": {
   "codemirror_mode": {
    "name": "ipython",
    "version": 3
   },
   "file_extension": ".py",
   "mimetype": "text/x-python",
   "name": "python",
   "nbconvert_exporter": "python",
   "pygments_lexer": "ipython3",
   "version": "3.7.3"
  }
 },
 "nbformat": 4,
 "nbformat_minor": 2
}
